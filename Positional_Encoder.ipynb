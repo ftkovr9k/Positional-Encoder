{
  "nbformat": 4,
  "nbformat_minor": 0,
  "metadata": {
    "colab": {
      "provenance": [],
      "authorship_tag": "ABX9TyMEt0CFkk2jFXju8Mfx9DN+",
      "include_colab_link": true
    },
    "kernelspec": {
      "name": "python3",
      "display_name": "Python 3"
    },
    "language_info": {
      "name": "python"
    }
  },
  "cells": [
    {
      "cell_type": "markdown",
      "metadata": {
        "id": "view-in-github",
        "colab_type": "text"
      },
      "source": [
        "<a href=\"https://colab.research.google.com/github/ftkovr9k/Positional-Encoder/blob/main/Positional_Encoder.ipynb\" target=\"_parent\"><img src=\"https://colab.research.google.com/assets/colab-badge.svg\" alt=\"Open In Colab\"/></a>"
      ]
    },
    {
      "cell_type": "code",
      "execution_count": 7,
      "metadata": {
        "colab": {
          "base_uri": "https://localhost:8080/"
        },
        "id": "eo1WlcDueLvb",
        "outputId": "988eb875-7b9e-4100-cdad-abafc3281b1e"
      },
      "outputs": [
        {
          "output_type": "stream",
          "name": "stdout",
          "text": [
            "Enter a sentence: Hi.Busy?\n",
            "Enter dimension of the model (dim_model): 6\n",
            "{'Hi': [0.0, 1.0, 0.0, 1.0, 0.0, 1.0], '.': [0.84, 0.54, 0.05, 1.0, 0.0, 1.0], 'Busy': [0.91, -0.42, 0.09, 1.0, 0.0, 1.0], '?': [0.14, -0.99, 0.14, 0.99, 0.01, 1.0]}\n"
          ]
        }
      ],
      "source": [
        "import math\n",
        "import re\n",
        "\n",
        "encoded = {}\n",
        "sentence = input(\"Enter a sentence: \")\n",
        "\n",
        "words = re.findall(r'\\w+|[^\\w\\s]+', sentence)\n",
        "\n",
        "def encode_pos(pos, dim_model, i):\n",
        "    even = round(math.sin(pos / 10000 ** (2 * i / dim_model)), 2)\n",
        "    odd = round(math.cos(pos / 10000 ** (2 * i / dim_model)), 2)\n",
        "    return [even, odd]\n",
        "\n",
        "dim_model = int(input(\"Enter dimension of the model (dim_model): \"))\n",
        "\n",
        "for pos in range(len(words)):\n",
        "    encoded_words = []\n",
        "    for i in range(dim_model // 2):\n",
        "        encoded_words.extend(encode_pos(pos, dim_model, i))\n",
        "    encoded[words[pos]] = encoded_words\n",
        "\n",
        "print(encoded)\n"
      ]
    }
  ]
}